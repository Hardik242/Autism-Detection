{
 "cells": [
  {
   "cell_type": "code",
   "execution_count": 11,
   "id": "0e3d69c0",
   "metadata": {},
   "outputs": [],
   "source": [
    "import pandas as pd\n",
    "from sklearn.model_selection import train_test_split\n",
    "from sklearn.preprocessing import OneHotEncoder, MinMaxScaler\n",
    "from sklearn.compose import ColumnTransformer\n",
    "from sklearn.ensemble import RandomForestClassifier, AdaBoostClassifier\n",
    "from sklearn.discriminant_analysis import LinearDiscriminantAnalysis\n",
    "from sklearn.neighbors import KNeighborsClassifier\n",
    "from sklearn.svm import SVC\n",
    "from sklearn.tree import DecisionTreeClassifier\n",
    "from sklearn.naive_bayes import GaussianNB\n",
    "from sklearn.linear_model import LogisticRegression\n",
    "from sklearn.metrics import accuracy_score\n",
    "import pickle\n",
    "import os  # Import os module for directory operations\n"
   ]
  },
  {
   "cell_type": "code",
   "execution_count": 12,
   "id": "224930ea",
   "metadata": {},
   "outputs": [],
   "source": [
    "# Load the training and testing datasets\n",
    "train_df = pd.read_csv(\"train_combined_final.csv\")\n",
    "test_df = pd.read_csv(\"test_final.csv\")\n",
    "\n",
    "# Define the models to be trained\n",
    "models = {\n",
    "    \"AB\": AdaBoostClassifier(),\n",
    "    \"RF\": RandomForestClassifier(),\n",
    "    \"LDA\": LinearDiscriminantAnalysis(),\n",
    "    \"KNN\": KNeighborsClassifier(),\n",
    "    \"SVM\": SVC(probability=True),\n",
    "    \"DT\": DecisionTreeClassifier(),\n",
    "    \"GNB\": GaussianNB(),\n",
    "    \"LR\": LogisticRegression(max_iter=1000)\n",
    "}\n",
    "\n"
   ]
  },
  {
   "cell_type": "code",
   "execution_count": 13,
   "id": "1f93a8fb",
   "metadata": {},
   "outputs": [
    {
     "name": "stdout",
     "output_type": "stream",
     "text": [
      "['A1_Score', 'A2_Score', 'A3_Score', 'A4_Score', 'A5_Score', 'A6_Score', 'A7_Score', 'A8_Score', 'A9_Score', 'A10_Score', 'age', 'gender_f', 'gender_m', 'jaundice_no', 'jaundice_yes']\n"
     ]
    }
   ],
   "source": [
    "# Columns to drop from the training and testing datasets\n",
    "# We check if the columns exist before dropping them to prevent errors\n",
    "drop_train_cols = [col for col in [\"autism\", \"Class/ASD\", \"result\", \"ID\", \"used_app_before\", \"age_desc\",\n",
    "                                   \"ethnicity\", \"country_of_res\", \"relation\"] if col in train_df.columns]\n",
    "drop_test_cols = [col for col in [\"autism\", \"result\", \"ID\", \"used_app_before\", \"age_desc\",\n",
    "                                  \"ethnicity\", \"country_of_res\", \"relation\"] if col in test_df.columns]\n",
    "\n",
    "# Separate features (X) and target variable (y) for training and testing sets\n",
    "X_train = train_df.drop(columns=drop_train_cols)\n",
    "y_train = train_df['autism']\n",
    "\n",
    "X_test = test_df.drop(columns=drop_test_cols)\n",
    "y_test = test_df['autism']\n",
    "\n",
    "# Create a list of the original training columns for later use\n",
    "template_columns = X_train.columns.tolist()\n",
    "\n",
    "# Combine training and testing data for consistent preprocessing\n",
    "combined = pd.concat([X_train, X_test]).copy()\n",
    "\n",
    "# Normalize string formatting in the combined dataset\n",
    "for col in combined.select_dtypes(include='object').columns:\n",
    "    combined[col] = combined[col].str.lower().str.strip()\n",
    "\n",
    "# Identify categorical and numerical columns in the combined dataset\n",
    "categorical_cols = combined.select_dtypes(include='object').columns\n",
    "numerical_cols = combined.select_dtypes(include='number').columns\n",
    "\n",
    "# Create a ColumnTransformer to apply different preprocessing to different columns\n",
    "preprocessor = ColumnTransformer(\n",
    "    transformers=[\n",
    "        ('num', MinMaxScaler(), numerical_cols),  # Scale numerical columns\n",
    "        ('cat', OneHotEncoder(handle_unknown='ignore', sparse_output=False), categorical_cols)  # One-hot encode categorical columns\n",
    "    ])\n",
    "\n",
    "# Fit the preprocessor on the combined data and transform it\n",
    "combined_scaled = preprocessor.fit_transform(combined)\n",
    "\n",
    "# Get the feature names after OneHotEncoding\n",
    "categorical_feature_names = preprocessor.named_transformers_['cat'].get_feature_names_out(categorical_cols)\n",
    "all_feature_names = numerical_cols.tolist() + list(categorical_feature_names)\n",
    "\n",
    "print(all_feature_names)  # Print the list of all feature names\n",
    "\n",
    "# Convert the processed data back into a DataFrame\n",
    "combined_scaled = pd.DataFrame(combined_scaled, columns=all_feature_names)\n",
    "\n",
    "# Split the processed data back into training and testing sets\n",
    "X_train_scaled = combined_scaled.iloc[:len(X_train)]\n",
    "X_test_scaled = combined_scaled.iloc[len(X_train):]"
   ]
  },
  {
   "cell_type": "code",
   "execution_count": 14,
   "id": "1be79c68",
   "metadata": {},
   "outputs": [
    {
     "data": {
      "text/plain": [
       "'\\nX_train_internal, X_val_internal, y_train_internal, y_val_internal = train_test_split(\\n    X_train_scaled, y_train, test_size=0.2, random_state=42  # Adjust test_size as needed\\n)\\n'"
      ]
     },
     "execution_count": 14,
     "metadata": {},
     "output_type": "execute_result"
    }
   ],
   "source": [
    "# --- Optional: Create an additional test split from the training data ---\n",
    "# This is useful for validating model performance without relying solely on the external test set.\n",
    "# The split is performed with a random state to ensure reproducibility if desired.\n",
    "\"\"\"\n",
    "X_train_internal, X_val_internal, y_train_internal, y_val_internal = train_test_split(\n",
    "    X_train_scaled, y_train, test_size=0.2, random_state=42  # Adjust test_size as needed\n",
    ")\n",
    "\"\"\""
   ]
  },
  {
   "cell_type": "code",
   "execution_count": 15,
   "id": "e5cc46de",
   "metadata": {},
   "outputs": [],
   "source": [
    "# ----------------------------------------------------------------------\n",
    "\n",
    "# Train and evaluate the models\n",
    "model_accuracies = {}\n",
    "for name, model in models.items():\n",
    "    model.fit(X_train_scaled, y_train)\n",
    "    preds = model.predict(X_test_scaled)\n",
    "    acc = accuracy_score(y_test, preds)\n",
    "    model_accuracies[name] = acc\n",
    "\n",
    "    # Save each trained model\n",
    "    with open(f\"models/{name}_model.pkl\", \"wb\") as f:\n",
    "        pickle.dump(model, f)"
   ]
  },
  {
   "cell_type": "code",
   "execution_count": 16,
   "id": "3f449629",
   "metadata": {},
   "outputs": [],
   "source": [
    "# Save the preprocessor\n",
    "with open(\"preprocessor.pkl\", \"wb\") as f:\n",
    "    pickle.dump(preprocessor, f)\n",
    "\n",
    "# Save the column names used for training\n",
    "with open(\"template_columns.pkl\", \"wb\") as f:\n",
    "    pickle.dump(combined_scaled.columns, f)"
   ]
  },
  {
   "cell_type": "code",
   "execution_count": 17,
   "id": "816d10aa",
   "metadata": {},
   "outputs": [
    {
     "data": {
      "text/plain": [
       "{'AB': 0.735,\n",
       " 'RF': 0.705,\n",
       " 'LDA': 0.71,\n",
       " 'KNN': 0.675,\n",
       " 'SVM': 0.7,\n",
       " 'DT': 0.705,\n",
       " 'GNB': 0.705,\n",
       " 'LR': 0.715}"
      ]
     },
     "execution_count": 17,
     "metadata": {},
     "output_type": "execute_result"
    }
   ],
   "source": [
    "model_accuracies"
   ]
  }
 ],
 "metadata": {
  "kernelspec": {
   "display_name": "Python 3",
   "language": "python",
   "name": "python3"
  },
  "language_info": {
   "codemirror_mode": {
    "name": "ipython",
    "version": 3
   },
   "file_extension": ".py",
   "mimetype": "text/x-python",
   "name": "python",
   "nbconvert_exporter": "python",
   "pygments_lexer": "ipython3",
   "version": "3.11.9"
  }
 },
 "nbformat": 4,
 "nbformat_minor": 5
}
